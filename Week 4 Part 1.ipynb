{
 "cells": [
  {
   "cell_type": "markdown",
   "metadata": {},
   "source": [
    "### Capstone Project\n",
    "# Choosing the Best Location to Start a Persian Restaurant in London?"
   ]
  },
  {
   "cell_type": "markdown",
   "metadata": {},
   "source": [
    "A newly opened persian restuarant in Europe is receiving a lot of compliments and request to frenchise and open other location in different big cities. The managment is looking to expand their markets to England, Germany and France. The first target is England, and the city is chosen to be London. Now they want to know where would be the best location for such an investment."
   ]
  },
  {
   "cell_type": "markdown",
   "metadata": {},
   "source": [
    "There are few important factors that need to be considered in order to get the best answer:\n",
    "### Restuarant Style and Food\n",
    "As we already know, the food is going to be traditional persian food served in its own traditional way. The restaurant has created a very wide menu that everyone is happy with it and they are covering all kind of costumers.\n",
    "### Target Market\n",
    "To open a persian restaurant in London, we need to know exactly who we are targeting as costumers. is this going to be only Persians, or we can count on all other culture and origins to be attracted to this type of food and bring a market into the venue.\n",
    "### Competitors\n",
    "This is one is probably the most important one. We definitly dont want to open a venue in the same area that already has a well stablished venue in the same category. Also, there should be a study on what all other similar venues are doing for marketing and if it is working for them or not.\n",
    "### Location and Premises\n",
    "There are many factors that will contribute to where you decide your premises to be. It can be challenging to find a venue that will factor in all of your conditions, so it is likely you will have to compromise on a few things. However, here are the main factors you should consider when finding premises for your new restaurant:\n",
    "• Location: How accessible is the location? Are there many competitors nearby?\n",
    "• Building type: What type of building would you like your restaurant to be in?\n",
    "• Target market: Make sure it is in an area where your target market is also.\n",
    "• Cost: Your ideal location may prove to be a little costly. Make sure that there is a realistic price point."
   ]
  }
 ],
 "metadata": {
  "kernelspec": {
   "display_name": "Python 3",
   "language": "python",
   "name": "python3"
  },
  "language_info": {
   "codemirror_mode": {
    "name": "ipython",
    "version": 3
   },
   "file_extension": ".py",
   "mimetype": "text/x-python",
   "name": "python",
   "nbconvert_exporter": "python",
   "pygments_lexer": "ipython3",
   "version": "3.7.4"
  }
 },
 "nbformat": 4,
 "nbformat_minor": 2
}
