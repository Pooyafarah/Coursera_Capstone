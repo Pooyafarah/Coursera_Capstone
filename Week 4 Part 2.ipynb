{
 "cells": [
  {
   "cell_type": "markdown",
   "metadata": {},
   "source": [
    "### Capstone Project\n",
    "# Choosing the Best Location to Start a Persian Restaurant in London?\n",
    "## Data Section"
   ]
  },
  {
   "cell_type": "markdown",
   "metadata": {},
   "source": [
    "London is one of the most ethnically diverse cities in the world. At the 2011 census, London population was 8,173,941, which had the following distribution:\n",
    "- 44.9% were born in England and were British. \n",
    "- 37% of the population were born outside the UK, including 24.5% born outside of Europe.\n",
    "\n",
    "The office for National Statistic provides data for each neighborhoods or boroughs. London has 32 main boroughs.\n",
    "For our restaurant problem, we will focus on the Boroughs of London and work on getting the data from all the Boroughs. There are 32 London Boroughs with a population of around 150,000 to 300,000.\n",
    "To solve our problem of finding a best location to start a Persian restaurant in London, we need to datasets based on various parameters such as :\n",
    "### 1. Population of target audience in all the boroughs of London based on their :\n",
    "• Ethnicity\n",
    "• Age\n",
    "• Gender\n",
    "• Income\n",
    "### 2. We also need the data about the required Business floorspace and Rateable Value statistics of each borough.\n",
    "### 3. Considering the competitors factor, we also need the data of extsing Licensed Restaurants in each borough.\n",
    "### 4. And lastly we will also consider the borough level tourist and domestic annual spend estimates.\n",
    "\n",
    "All the above required information is available at London Datastore, which is a free and open data-sharing portal where anyone can access data relating to the city. The data is available in XLS and CSV format, which we can download and can use as-is for solving our problem.\n",
    "The link for the London Datastore - https://data.london.gov.uk/\n",
    "Along with the above datasets we will also use the Foursquare location data to solve our problem."
   ]
  },
  {
   "cell_type": "code",
   "execution_count": null,
   "metadata": {},
   "outputs": [],
   "source": []
  }
 ],
 "metadata": {
  "kernelspec": {
   "display_name": "Python 3",
   "language": "python",
   "name": "python3"
  },
  "language_info": {
   "codemirror_mode": {
    "name": "ipython",
    "version": 3
   },
   "file_extension": ".py",
   "mimetype": "text/x-python",
   "name": "python",
   "nbconvert_exporter": "python",
   "pygments_lexer": "ipython3",
   "version": "3.7.4"
  }
 },
 "nbformat": 4,
 "nbformat_minor": 2
}
